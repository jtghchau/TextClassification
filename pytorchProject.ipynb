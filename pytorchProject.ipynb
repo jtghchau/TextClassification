{
  "nbformat": 4,
  "nbformat_minor": 0,
  "metadata": {
    "colab": {
      "provenance": [],
      "gpuType": "T4",
      "authorship_tag": "ABX9TyOgVKIoiFONAYUq0hpG5Aaq",
      "include_colab_link": true
    },
    "kernelspec": {
      "name": "python3",
      "display_name": "Python 3"
    },
    "language_info": {
      "name": "python"
    },
    "accelerator": "GPU"
  },
  "cells": [
    {
      "cell_type": "markdown",
      "metadata": {
        "id": "view-in-github",
        "colab_type": "text"
      },
      "source": [
        "<a href=\"https://colab.research.google.com/github/jtghchau/TextClassification/blob/main/pytorchProject.ipynb\" target=\"_parent\"><img src=\"https://colab.research.google.com/assets/colab-badge.svg\" alt=\"Open In Colab\"/></a>"
      ]
    },
    {
      "cell_type": "code",
      "execution_count": 1,
      "metadata": {
        "id": "hYoyDTqlNsWu"
      },
      "outputs": [],
      "source": [
        "import torch\n",
        "import torch.nn as nn\n",
        "import torch.nn.functional as F\n",
        "import torch.optim as optim\n",
        "import torchvision\n",
        "from torch.utils.data import DataLoader\n",
        "from torchvision import datasets, transforms\n",
        "from torchvision.utils import make_grid\n",
        "\n",
        "import numpy as np\n",
        "import pandas as pd\n",
        "from sklearn.metrics import confusion_matrix\n",
        "import matplotlib.pyplot as plt\n",
        "%matplotlib inline"
      ]
    },
    {
      "cell_type": "code",
      "source": [
        "#Loading MNIST\n",
        "transform = transforms.Compose([\n",
        "        transforms.ToTensor(),\n",
        "        transforms.Normalize((0.1307,), (0.3081,))\n",
        "    ])\n",
        "\n",
        "trainData = torchvision.datasets.MNIST(root='data', train=True, download=True, transform=transform)\n",
        "testData = torchvision.datasets.MNIST(root='data', train=False, download=True, transform=transform)\n",
        "\n",
        "trainLoader = DataLoader(trainData, batch_size=64, shuffle=True)\n",
        "testLoader = DataLoader(testData, batch_size=64, shuffle=False)"
      ],
      "metadata": {
        "colab": {
          "base_uri": "https://localhost:8080/"
        },
        "id": "cNeYZefIqaEy",
        "outputId": "d290b4cf-d298-4b28-bccf-56b62f7867d6"
      },
      "execution_count": 2,
      "outputs": [
        {
          "output_type": "stream",
          "name": "stderr",
          "text": [
            "100%|██████████| 9.91M/9.91M [00:00<00:00, 58.1MB/s]\n",
            "100%|██████████| 28.9k/28.9k [00:00<00:00, 1.49MB/s]\n",
            "100%|██████████| 1.65M/1.65M [00:00<00:00, 14.4MB/s]\n",
            "100%|██████████| 4.54k/4.54k [00:00<00:00, 10.1MB/s]\n"
          ]
        }
      ]
    },
    {
      "cell_type": "code",
      "source": [
        "#Building the multi-layer perceptron\n",
        "class MLP(nn.Module):\n",
        "    def __init__(self, input_size=784, hidden_size=128, output_size=10):\n",
        "        super(MLP, self).__init__()\n",
        "        self.fc1 = nn.Linear(input_size, hidden_size)\n",
        "        self.fc2 = nn.Linear(hidden_size, hidden_size)\n",
        "        self.fc3 = nn.Linear(hidden_size, output_size)\n",
        "        self.relu = nn.ReLU()\n",
        "\n",
        "    def forward(self, x):\n",
        "        x = x.view(x.size(0), -1)\n",
        "        x = self.relu(self.fc1(x))\n",
        "        x = self.relu(self.fc2(x))\n",
        "        x = self.fc3(x)\n",
        "        return x\n",
        "\n",
        "#Building the convuluted neural network\n",
        "class CNN(nn.Module):\n",
        "    def __init__(self):\n",
        "        super(CNN, self).__init__()\n",
        "        self.conv1 = nn.Conv2d(in_channels=1, out_channels=32, kernel_size=3, padding=1)\n",
        "        self.pool = nn.MaxPool2d(2, 2)\n",
        "        self.conv2 = nn.Conv2d(32, 64, kernel_size=3, padding=1)\n",
        "        self.fc1 = nn.Linear(64 * 7 * 7, 128)\n",
        "        self.fc2 = nn.Linear(128, 10)\n",
        "\n",
        "    def forward(self, x):\n",
        "        x = self.pool(F.relu(self.conv1(x)))\n",
        "        x = self.pool(F.relu(self.conv2(x)))\n",
        "        x = x = x.view(x.size(0), -1)\n",
        "        x = F.relu(self.fc1(x))\n",
        "        x = self.fc2(x)\n",
        "        return x"
      ],
      "metadata": {
        "id": "RlD4n_p0qyJ8"
      },
      "execution_count": 3,
      "outputs": []
    },
    {
      "cell_type": "code",
      "source": [
        "#Training the MLP\n",
        "\n",
        "!pip install tensorboard\n",
        "from torch.utils.tensorboard import SummaryWriter\n",
        "\n",
        "writer = SummaryWriter('runs/mlp_experiment')\n",
        "#!tensorboard --logdir==runs/mlp_experiment\n",
        "\n",
        "mlpModel = MLP()\n",
        "criterion = nn.CrossEntropyLoss()\n",
        "optimizer = optim.Adam(mlpModel.parameters(), lr=0.001)\n",
        "writer = SummaryWriter(\"logs/mlp\")\n",
        "\n",
        "for epoch in range(10):\n",
        "    mlpModel.train()\n",
        "    total_loss, correct, total = 0, 0, 0\n",
        "\n",
        "    for images, labels in trainLoader:\n",
        "        optimizer.zero_grad()\n",
        "        outputs = mlpModel(images)\n",
        "        loss = criterion(outputs, labels)\n",
        "        loss.backward()\n",
        "        optimizer.step()\n",
        "\n",
        "        total_loss += loss.item()\n",
        "        _, predicted = outputs.max(1)\n",
        "        correct += predicted.eq(labels).sum().item()\n",
        "        total += labels.size(0)\n",
        "\n",
        "    train_acc = correct / total\n",
        "    train_loss = total_loss / len(trainLoader)\n",
        "\n",
        "    mlpModel.eval()\n",
        "    correct, total = 0, 0\n",
        "    with torch.no_grad():\n",
        "        for images, labels in testLoader:\n",
        "            outputs = mlpModel(images)\n",
        "            _, predicted = outputs.max(1)\n",
        "            correct += predicted.eq(labels).sum().item()\n",
        "            total += labels.size(0)\n",
        "\n",
        "    test_acc = correct / total\n",
        "\n",
        "    writer.add_scalar(\"Loss/train\", train_loss, epoch)\n",
        "    writer.add_scalar(\"Acc/test\", test_acc, epoch)\n",
        "    print(f\"Epoch {epoch+1}: Train Loss={train_loss:.4f}, Train Acc={train_acc:.4f}, Test Acc={test_acc:.4f}\")\n"
      ],
      "metadata": {
        "colab": {
          "base_uri": "https://localhost:8080/"
        },
        "id": "DTKEsc-mtmJN",
        "outputId": "41fe01b6-6d80-472a-afee-a416a0bf4e07"
      },
      "execution_count": 4,
      "outputs": [
        {
          "output_type": "stream",
          "name": "stdout",
          "text": [
            "Requirement already satisfied: tensorboard in /usr/local/lib/python3.11/dist-packages (2.18.0)\n",
            "Requirement already satisfied: absl-py>=0.4 in /usr/local/lib/python3.11/dist-packages (from tensorboard) (1.4.0)\n",
            "Requirement already satisfied: grpcio>=1.48.2 in /usr/local/lib/python3.11/dist-packages (from tensorboard) (1.71.0)\n",
            "Requirement already satisfied: markdown>=2.6.8 in /usr/local/lib/python3.11/dist-packages (from tensorboard) (3.7)\n",
            "Requirement already satisfied: numpy>=1.12.0 in /usr/local/lib/python3.11/dist-packages (from tensorboard) (2.0.2)\n",
            "Requirement already satisfied: packaging in /usr/local/lib/python3.11/dist-packages (from tensorboard) (24.2)\n",
            "Requirement already satisfied: protobuf!=4.24.0,>=3.19.6 in /usr/local/lib/python3.11/dist-packages (from tensorboard) (5.29.4)\n",
            "Requirement already satisfied: setuptools>=41.0.0 in /usr/local/lib/python3.11/dist-packages (from tensorboard) (75.2.0)\n",
            "Requirement already satisfied: six>1.9 in /usr/local/lib/python3.11/dist-packages (from tensorboard) (1.17.0)\n",
            "Requirement already satisfied: tensorboard-data-server<0.8.0,>=0.7.0 in /usr/local/lib/python3.11/dist-packages (from tensorboard) (0.7.2)\n",
            "Requirement already satisfied: werkzeug>=1.0.1 in /usr/local/lib/python3.11/dist-packages (from tensorboard) (3.1.3)\n",
            "Requirement already satisfied: MarkupSafe>=2.1.1 in /usr/local/lib/python3.11/dist-packages (from werkzeug>=1.0.1->tensorboard) (3.0.2)\n",
            "Epoch 1: Train Loss=0.2592, Train Acc=0.9229, Test Acc=0.9562\n",
            "Epoch 2: Train Loss=0.1077, Train Acc=0.9665, Test Acc=0.9676\n",
            "Epoch 3: Train Loss=0.0741, Train Acc=0.9762, Test Acc=0.9738\n",
            "Epoch 4: Train Loss=0.0565, Train Acc=0.9816, Test Acc=0.9729\n",
            "Epoch 5: Train Loss=0.0446, Train Acc=0.9849, Test Acc=0.9772\n",
            "Epoch 6: Train Loss=0.0378, Train Acc=0.9870, Test Acc=0.9733\n",
            "Epoch 7: Train Loss=0.0312, Train Acc=0.9895, Test Acc=0.9810\n",
            "Epoch 8: Train Loss=0.0284, Train Acc=0.9908, Test Acc=0.9779\n",
            "Epoch 9: Train Loss=0.0250, Train Acc=0.9916, Test Acc=0.9782\n",
            "Epoch 10: Train Loss=0.0228, Train Acc=0.9921, Test Acc=0.9748\n"
          ]
        }
      ]
    },
    {
      "cell_type": "code",
      "source": [
        "#Training the CNN\n",
        "\n",
        "!pip install tensorboard\n",
        "from torch.utils.tensorboard import SummaryWriter\n",
        "\n",
        "writer = SummaryWriter('runs/cnn_experiment')\n",
        "#!tensorboard --logdir==runs/mlp_experiment\n",
        "\n",
        "cnnModel = CNN()\n",
        "criterion = nn.CrossEntropyLoss()\n",
        "optimizer = optim.Adam(cnnModel.parameters(), lr=0.001)\n",
        "writer = SummaryWriter(\"logs/cnn\")\n",
        "\n",
        "for epoch in range(10):\n",
        "    cnnModel.train()\n",
        "    total_loss, correct, total = 0, 0, 0\n",
        "\n",
        "    for images, labels in trainLoader:\n",
        "        optimizer.zero_grad()\n",
        "        outputs = cnnModel(images)\n",
        "        loss = criterion(outputs, labels)\n",
        "        loss.backward()\n",
        "        optimizer.step()\n",
        "\n",
        "        total_loss += loss.item()\n",
        "        _, predicted = outputs.max(1)\n",
        "        correct += predicted.eq(labels).sum().item()\n",
        "        total += labels.size(0)\n",
        "\n",
        "    train_acc = correct / total\n",
        "    train_loss = total_loss / len(trainLoader)\n",
        "\n",
        "    cnnModel.eval()\n",
        "    correct, total = 0, 0\n",
        "    with torch.no_grad():\n",
        "        for images, labels in testLoader:\n",
        "            outputs = cnnModel(images)\n",
        "            _, predicted = outputs.max(1)\n",
        "            correct += predicted.eq(labels).sum().item()\n",
        "            total += labels.size(0)\n",
        "\n",
        "    test_acc = correct / total\n",
        "\n",
        "    writer.add_scalar(\"CNN: Loss/train\", train_loss, epoch)\n",
        "    writer.add_scalar(\"CNN: Acc/test\", test_acc, epoch)\n",
        "    print(f\"Epoch {epoch+1}: Train Loss={train_loss:.4f}, Train Acc={train_acc:.4f}, Test Acc={test_acc:.4f}\")"
      ],
      "metadata": {
        "id": "uFyRiNllCdHa",
        "outputId": "0987168c-954e-4e18-d933-c23e31665185",
        "colab": {
          "base_uri": "https://localhost:8080/"
        }
      },
      "execution_count": 5,
      "outputs": [
        {
          "output_type": "stream",
          "name": "stdout",
          "text": [
            "Requirement already satisfied: tensorboard in /usr/local/lib/python3.11/dist-packages (2.18.0)\n",
            "Requirement already satisfied: absl-py>=0.4 in /usr/local/lib/python3.11/dist-packages (from tensorboard) (1.4.0)\n",
            "Requirement already satisfied: grpcio>=1.48.2 in /usr/local/lib/python3.11/dist-packages (from tensorboard) (1.71.0)\n",
            "Requirement already satisfied: markdown>=2.6.8 in /usr/local/lib/python3.11/dist-packages (from tensorboard) (3.7)\n",
            "Requirement already satisfied: numpy>=1.12.0 in /usr/local/lib/python3.11/dist-packages (from tensorboard) (2.0.2)\n",
            "Requirement already satisfied: packaging in /usr/local/lib/python3.11/dist-packages (from tensorboard) (24.2)\n",
            "Requirement already satisfied: protobuf!=4.24.0,>=3.19.6 in /usr/local/lib/python3.11/dist-packages (from tensorboard) (5.29.4)\n",
            "Requirement already satisfied: setuptools>=41.0.0 in /usr/local/lib/python3.11/dist-packages (from tensorboard) (75.2.0)\n",
            "Requirement already satisfied: six>1.9 in /usr/local/lib/python3.11/dist-packages (from tensorboard) (1.17.0)\n",
            "Requirement already satisfied: tensorboard-data-server<0.8.0,>=0.7.0 in /usr/local/lib/python3.11/dist-packages (from tensorboard) (0.7.2)\n",
            "Requirement already satisfied: werkzeug>=1.0.1 in /usr/local/lib/python3.11/dist-packages (from tensorboard) (3.1.3)\n",
            "Requirement already satisfied: MarkupSafe>=2.1.1 in /usr/local/lib/python3.11/dist-packages (from werkzeug>=1.0.1->tensorboard) (3.0.2)\n",
            "Epoch 1: Train Loss=0.1292, Train Acc=0.9605, Test Acc=0.9862\n",
            "Epoch 2: Train Loss=0.0418, Train Acc=0.9871, Test Acc=0.9875\n",
            "Epoch 3: Train Loss=0.0286, Train Acc=0.9912, Test Acc=0.9859\n",
            "Epoch 4: Train Loss=0.0212, Train Acc=0.9932, Test Acc=0.9906\n",
            "Epoch 5: Train Loss=0.0168, Train Acc=0.9946, Test Acc=0.9911\n",
            "Epoch 6: Train Loss=0.0138, Train Acc=0.9953, Test Acc=0.9912\n",
            "Epoch 7: Train Loss=0.0112, Train Acc=0.9962, Test Acc=0.9892\n",
            "Epoch 8: Train Loss=0.0092, Train Acc=0.9968, Test Acc=0.9911\n",
            "Epoch 9: Train Loss=0.0078, Train Acc=0.9974, Test Acc=0.9921\n",
            "Epoch 10: Train Loss=0.0064, Train Acc=0.9979, Test Acc=0.9922\n"
          ]
        }
      ]
    }
  ]
}